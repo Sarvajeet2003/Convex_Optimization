{
 "cells": [
  {
   "cell_type": "code",
   "execution_count": 2,
   "id": "128e21c4",
   "metadata": {},
   "outputs": [
    {
     "name": "stdout",
     "output_type": "stream",
     "text": [
      "Minimum point: (1.534990, 0.886227)\n",
      "Minimum value: 2.3520278005682392e-20\n"
     ]
    }
   ],
   "source": [
    "import numpy as np\n",
    "\n",
    "#Defining the Fuction at F(x) = (x^2 − 3y^2)^2 + sin^2(x^2 + y^2)\n",
    "def f(x,y):\n",
    "    return pow((pow(x,2) - 3 * pow(y,2)),2) + pow((np.sin(pow(x,2) + pow(y,2))),2);\n",
    "\n",
    "#Calculating the Gradient of the Function by Finding First order derivative wrt X,Y\n",
    "def grad_f(x, y):\n",
    "    df_dx = 4 * x * ( pow(x,2) - 3*pow(y,2) + np.sin(pow(x,2) + pow(y,2))*np.cos(pow(x,2)+pow(y,2)))\n",
    "    df_dy = (-12*y*(pow(x,2)-3*pow(y,2))) + (4 * y * np.sin(pow(x,2)+pow(y,2))*np.cos(pow(x,2)+pow(y,2)))\n",
    "    return df_dx, df_dy;\n",
    "\n",
    "#Calculating the Combination Descent(Maximum) of the Function using the Formula New_Value = Old_Value - (Learning_Rate * Slope)\n",
    "def combination_descent(f, grad_f):\n",
    "    x = x0;\n",
    "    y = y0;\n",
    "    for i in range(iterations):\n",
    "        dx, dy = grad_f(x, y)\n",
    "        x = x - (learning_rate * dx)\n",
    "        y = y - (learning_rate * dy)\n",
    "    return x, y;\n",
    "\n",
    "# Initilizing the values of X,Y to 1 as Given in the question\n",
    "x0 = 1;\n",
    "y0 = 1;\n",
    "\n",
    "#Setting the Learning Rate to Lower Value\n",
    "learning_rate = 0.001;\n",
    "\n",
    "#Setting Random Value of the number of Iterations\n",
    "iterations = 1000;\n",
    "\n",
    "#Calculating the Y_Min and X_Min of the given function at X,Y = 1,1\n",
    "x_min , y_min = combination_descent(f,grad_f);\n",
    "print(f\"Minimum point: ({x_min:.6f}, {y_min:.6f})\");\n",
    "\n",
    "#Calculating the Minimum Value of the Fuction at F(x) = (x^2 − 3y^2)^2 + sin^2(x^2 + y^2)\n",
    "min = f(x_min,y_min);\n",
    "\n",
    "#Printing the full Minimum Value \n",
    "print(f\"Minimum value: {min}\");\n",
    "\n",
    "# #Printing the Minimum Value upto 6 decimal places\n",
    "# print(f\"Minimum value (Rounded off to 6 Decimal Places): {min:.6f}\");"
   ]
  },
  {
   "cell_type": "code",
   "execution_count": null,
   "id": "430a990d",
   "metadata": {},
   "outputs": [],
   "source": []
  }
 ],
 "metadata": {
  "kernelspec": {
   "display_name": "Python 3",
   "language": "python",
   "name": "python3"
  },
  "language_info": {
   "codemirror_mode": {
    "name": "ipython",
    "version": 3
   },
   "file_extension": ".py",
   "mimetype": "text/x-python",
   "name": "python",
   "nbconvert_exporter": "python",
   "pygments_lexer": "ipython3",
   "version": "3.10.9"
  },
  "vscode": {
   "interpreter": {
    "hash": "b0fa6594d8f4cbf19f97940f81e996739fb7646882a419484c72d19e05852a7e"
   }
  }
 },
 "nbformat": 4,
 "nbformat_minor": 5
}
